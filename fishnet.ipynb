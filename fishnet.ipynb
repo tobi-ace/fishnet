{
 "cells": [
  {
   "source": [
    "# FishNet: Exploring how Spherical CNNs or its variants work for fisheye imagery"
   ],
   "cell_type": "markdown",
   "metadata": {}
  },
  {
   "cell_type": "code",
   "execution_count": null,
   "metadata": {},
   "outputs": [],
   "source": []
  }
 ],
 "metadata": {
  "kernelspec": {
   "name": "python3",
   "display_name": "Python 3.8.5 64-bit ('base': conda)"
  },
  "language_info": {
   "codemirror_mode": {
    "name": "ipython",
    "version": 3
   },
   "file_extension": ".py",
   "mimetype": "text/x-python",
   "name": "python",
   "nbconvert_exporter": "python",
   "pygments_lexer": "ipython3",
   "version": "3.8.5"
  },
  "interpreter": {
   "hash": "1a611dbd5c962caf69b72532d0fc068ddf874d2783a33844689ce54a14b212f1"
  }
 },
 "nbformat": 4,
 "nbformat_minor": 2
}